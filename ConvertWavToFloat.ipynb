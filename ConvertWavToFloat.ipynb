{
 "cells": [
  {
   "cell_type": "code",
   "execution_count": 2,
   "id": "eb3fcc81-96e7-48ac-aa1f-3ac5e6563f9e",
   "metadata": {},
   "outputs": [
    {
     "name": "stdout",
     "output_type": "stream",
     "text": [
      "031_4\n",
      "031_4.WAV\n",
      "Converting  031_4.WAV to FLOAT.\n",
      "031_3\n",
      "031_3.WAV\n",
      "Converting  031_3.WAV to FLOAT.\n",
      "031_2\n",
      "031_2.WAV\n",
      "Converting  031_2.WAV to FLOAT.\n",
      "031_5\n",
      "031_5.WAV\n",
      "Converting  031_5.WAV to FLOAT.\n",
      "031_1\n",
      "031_1.WAV\n",
      "Converting  031_1.WAV to FLOAT.\n"
     ]
    }
   ],
   "source": [
    "import os\n",
    "import soundfile\n",
    "import shutil\n",
    "import tkinter as tk\n",
    "from tkinter import filedialog, messagebox\n",
    "root = tk.Tk()\n",
    "root.withdraw()\n",
    "\n",
    "# CHOOSE INPUT DIRECTORY \n",
    "''' make sure this a copy of the directory as it will overwrite the files inside'''\n",
    "\n",
    "dir_input = filedialog.askdirectory(title = 'Choose input directory root with audio files to convert sample bit depth.')\n",
    "\n",
    "# CONVERT WAV TO FLOAT\n",
    "\n",
    "ext = '.WAV'\n",
    "bitdepth_output = 'FLOAT'\n",
    "\n",
    "for folder in os.listdir(dir_input):\n",
    "    if os.path.isdir(os.path.join(dir_input, folder)):\n",
    "        print(folder)\n",
    "        temp_wd = os.path.join(dir_input, folder)\n",
    "        os.chdir(temp_wd)\n",
    "        for file in os.listdir(temp_wd):\n",
    "             if(file.endswith(ext)):\n",
    "                 print(file)\n",
    "                 data, sr = soundfile.read(file)                \n",
    "                 soundfile.write(file, data, sr, subtype = bitdepth_output)\n",
    "                 print(f\"Converting  {file} to {bitdepth_output}.\")"
   ]
  },
  {
   "cell_type": "code",
   "execution_count": null,
   "id": "3141d7ae-462e-4224-a539-c29402c0908f",
   "metadata": {},
   "outputs": [],
   "source": []
  }
 ],
 "metadata": {
  "kernelspec": {
   "display_name": "Python 3 (ipykernel)",
   "language": "python",
   "name": "python3"
  },
  "language_info": {
   "codemirror_mode": {
    "name": "ipython",
    "version": 3
   },
   "file_extension": ".py",
   "mimetype": "text/x-python",
   "name": "python",
   "nbconvert_exporter": "python",
   "pygments_lexer": "ipython3",
   "version": "3.9.12"
  }
 },
 "nbformat": 4,
 "nbformat_minor": 5
}
